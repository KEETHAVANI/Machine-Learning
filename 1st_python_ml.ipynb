{
  "nbformat": 4,
  "nbformat_minor": 0,
  "metadata": {
    "colab": {
      "name": "1st_python_ml.ipynb",
      "provenance": [],
      "collapsed_sections": [],
      "include_colab_link": true
    },
    "kernelspec": {
      "name": "python3",
      "display_name": "Python 3"
    }
  },
  "cells": [
    {
      "cell_type": "markdown",
      "metadata": {
        "id": "view-in-github",
        "colab_type": "text"
      },
      "source": [
        "<a href=\"https://colab.research.google.com/github/KEETHAVANI/Machine-Learning/blob/main/1st_python_ml.ipynb\" target=\"_parent\"><img src=\"https://colab.research.google.com/assets/colab-badge.svg\" alt=\"Open In Colab\"/></a>"
      ]
    },
    {
      "cell_type": "code",
      "metadata": {
        "colab": {
          "base_uri": "https://localhost:8080/"
        },
        "id": "I5sm7j6z_2Tz",
        "outputId": "5e864065-74e7-46d1-a2d3-f8dc3d372ead"
      },
      "source": [
        "print(\"Hello\")"
      ],
      "execution_count": null,
      "outputs": [
        {
          "output_type": "stream",
          "text": [
            "Hello\n"
          ],
          "name": "stdout"
        }
      ]
    },
    {
      "cell_type": "code",
      "metadata": {
        "id": "Q11cyfpKBHkR"
      },
      "source": [
        "x=5\r\n"
      ],
      "execution_count": null,
      "outputs": []
    },
    {
      "cell_type": "code",
      "metadata": {
        "colab": {
          "base_uri": "https://localhost:8080/"
        },
        "id": "-bLtl_DmCjJh",
        "outputId": "4eae02a5-699a-4d59-9c5f-cfd0677c7b7c"
      },
      "source": [
        "x\r\n"
      ],
      "execution_count": null,
      "outputs": [
        {
          "output_type": "execute_result",
          "data": {
            "text/plain": [
              "5"
            ]
          },
          "metadata": {
            "tags": []
          },
          "execution_count": 3
        }
      ]
    },
    {
      "cell_type": "code",
      "metadata": {
        "colab": {
          "base_uri": "https://localhost:8080/"
        },
        "id": "Km6dGuzZCmwQ",
        "outputId": "50f125a8-2e68-4ca0-d260-1c7e363a460c"
      },
      "source": [
        "x\r\n"
      ],
      "execution_count": null,
      "outputs": [
        {
          "output_type": "execute_result",
          "data": {
            "text/plain": [
              "5"
            ]
          },
          "metadata": {
            "tags": []
          },
          "execution_count": 11
        }
      ]
    },
    {
      "cell_type": "code",
      "metadata": {
        "id": "VjJYEMgBCqDj"
      },
      "source": [
        "x=x+7"
      ],
      "execution_count": null,
      "outputs": []
    },
    {
      "cell_type": "code",
      "metadata": {
        "colab": {
          "base_uri": "https://localhost:8080/"
        },
        "id": "wt77HHveC7_A",
        "outputId": "9c6f113c-9499-496a-8438-b5cb22541fe2"
      },
      "source": [
        "x"
      ],
      "execution_count": null,
      "outputs": [
        {
          "output_type": "execute_result",
          "data": {
            "text/plain": [
              "12"
            ]
          },
          "metadata": {
            "tags": []
          },
          "execution_count": 13
        }
      ]
    },
    {
      "cell_type": "code",
      "metadata": {
        "colab": {
          "base_uri": "https://localhost:8080/"
        },
        "id": "9Q7TazkuDSo4",
        "outputId": "993b4bda-576a-401b-81f3-d04ccdada08a"
      },
      "source": [
        "print(x)"
      ],
      "execution_count": null,
      "outputs": [
        {
          "output_type": "stream",
          "text": [
            "12\n"
          ],
          "name": "stdout"
        }
      ]
    },
    {
      "cell_type": "code",
      "metadata": {
        "colab": {
          "base_uri": "https://localhost:8080/"
        },
        "id": "cZla3xRXDaec",
        "outputId": "c0a3c4c5-f14c-4b22-b199-a4aafa220055"
      },
      "source": [
        "x"
      ],
      "execution_count": null,
      "outputs": [
        {
          "output_type": "execute_result",
          "data": {
            "text/plain": [
              "12"
            ]
          },
          "metadata": {
            "tags": []
          },
          "execution_count": 15
        }
      ]
    },
    {
      "cell_type": "code",
      "metadata": {
        "colab": {
          "base_uri": "https://localhost:8080/"
        },
        "id": "sWsRWLicDfor",
        "outputId": "0f9a5843-7874-4caf-c76d-9a0307767bae"
      },
      "source": [
        "type(x)"
      ],
      "execution_count": null,
      "outputs": [
        {
          "output_type": "execute_result",
          "data": {
            "text/plain": [
              "int"
            ]
          },
          "metadata": {
            "tags": []
          },
          "execution_count": 16
        }
      ]
    },
    {
      "cell_type": "code",
      "metadata": {
        "id": "XH4g0VkiDj5Z",
        "colab": {
          "base_uri": "https://localhost:8080/"
        },
        "outputId": "3fe3d823-4688-42fc-9616-98351445f4fc"
      },
      "source": [
        "print(\"Hello world's program\")    #string"
      ],
      "execution_count": null,
      "outputs": [
        {
          "output_type": "stream",
          "text": [
            "Hello world's program\n"
          ],
          "name": "stdout"
        }
      ]
    },
    {
      "cell_type": "code",
      "metadata": {
        "id": "Cs2HzIvNDLnf"
      },
      "source": [
        "course = 'Python for Beginners'"
      ],
      "execution_count": null,
      "outputs": []
    },
    {
      "cell_type": "code",
      "metadata": {
        "colab": {
          "base_uri": "https://localhost:8080/",
          "height": 35
        },
        "id": "Y_t-c9iKDiJK",
        "outputId": "793526b1-d01d-4f61-e5f1-16673228a0f1"
      },
      "source": [
        "course\r\n"
      ],
      "execution_count": null,
      "outputs": [
        {
          "output_type": "execute_result",
          "data": {
            "application/vnd.google.colaboratory.intrinsic+json": {
              "type": "string"
            },
            "text/plain": [
              "'Python for Beginners'"
            ]
          },
          "metadata": {
            "tags": []
          },
          "execution_count": 11
        }
      ]
    },
    {
      "cell_type": "markdown",
      "metadata": {
        "id": "Nze08TbVD6eE"
      },
      "source": [
        ""
      ]
    },
    {
      "cell_type": "markdown",
      "metadata": {
        "id": "Wbn_R4LsD1VD"
      },
      "source": [
        "***TO CHECK THE DATATYPE***"
      ]
    },
    {
      "cell_type": "code",
      "metadata": {
        "colab": {
          "base_uri": "https://localhost:8080/"
        },
        "id": "8GOTzFj4DpA7",
        "outputId": "cb8184be-4852-4302-aa92-4370ebd56285"
      },
      "source": [
        "type(course)"
      ],
      "execution_count": null,
      "outputs": [
        {
          "output_type": "execute_result",
          "data": {
            "text/plain": [
              "str"
            ]
          },
          "metadata": {
            "tags": []
          },
          "execution_count": 6
        }
      ]
    },
    {
      "cell_type": "markdown",
      "metadata": {
        "id": "MHPm2hC-EHcA"
      },
      "source": [
        "**STRINGS slicing the data **\r\n"
      ]
    },
    {
      "cell_type": "code",
      "metadata": {
        "colab": {
          "base_uri": "https://localhost:8080/",
          "height": 35
        },
        "id": "azs6dvcODroN",
        "outputId": "ce3dfddb-12db-46c4-ff16-97f95881e1db"
      },
      "source": [
        "course[:]   #course is var"
      ],
      "execution_count": null,
      "outputs": [
        {
          "output_type": "execute_result",
          "data": {
            "application/vnd.google.colaboratory.intrinsic+json": {
              "type": "string"
            },
            "text/plain": [
              "'Python for Beginners'"
            ]
          },
          "metadata": {
            "tags": []
          },
          "execution_count": 7
        }
      ]
    },
    {
      "cell_type": "code",
      "metadata": {
        "colab": {
          "base_uri": "https://localhost:8080/",
          "height": 35
        },
        "id": "yVmr5Oc2ETxt",
        "outputId": "e1426762-70f9-4f16-c4d2-fee1e8fb5896"
      },
      "source": [
        "course[:6]   # 6th letter is exclusive starts from 0"
      ],
      "execution_count": null,
      "outputs": [
        {
          "output_type": "execute_result",
          "data": {
            "application/vnd.google.colaboratory.intrinsic+json": {
              "type": "string"
            },
            "text/plain": [
              "'Python'"
            ]
          },
          "metadata": {
            "tags": []
          },
          "execution_count": 8
        }
      ]
    },
    {
      "cell_type": "code",
      "metadata": {
        "colab": {
          "base_uri": "https://localhost:8080/",
          "height": 35
        },
        "id": "r6vGk6AXEaJi",
        "outputId": "3af0aef6-c4f5-4dcd-a258-5653a27a957c"
      },
      "source": [
        "course[:-1]   #removes from last"
      ],
      "execution_count": null,
      "outputs": [
        {
          "output_type": "execute_result",
          "data": {
            "application/vnd.google.colaboratory.intrinsic+json": {
              "type": "string"
            },
            "text/plain": [
              "'Python for Beginner'"
            ]
          },
          "metadata": {
            "tags": []
          },
          "execution_count": 9
        }
      ]
    },
    {
      "cell_type": "code",
      "metadata": {
        "colab": {
          "base_uri": "https://localhost:8080/",
          "height": 35
        },
        "id": "sD2mSygwEoET",
        "outputId": "17d6786b-34cd-4b38-f112-397141d45326"
      },
      "source": [
        "course[10:]"
      ],
      "execution_count": null,
      "outputs": [
        {
          "output_type": "execute_result",
          "data": {
            "application/vnd.google.colaboratory.intrinsic+json": {
              "type": "string"
            },
            "text/plain": [
              "' Beginners'"
            ]
          },
          "metadata": {
            "tags": []
          },
          "execution_count": 14
        }
      ]
    },
    {
      "cell_type": "markdown",
      "metadata": {
        "id": "1dmDR3WsGQVu"
      },
      "source": [
        "***CONCATENATION***"
      ]
    },
    {
      "cell_type": "code",
      "metadata": {
        "colab": {
          "base_uri": "https://localhost:8080/"
        },
        "id": "F4vAuWcsFt_b",
        "outputId": "9ad10a30-50d4-42be-e45a-99633bee0cb6"
      },
      "source": [
        "first = \"Riya\"\r\n",
        "last = \"Mohan\"\r\n",
        "message = first + ' ' + last +  'is a data scientist'\r\n",
        "print(message)"
      ],
      "execution_count": null,
      "outputs": [
        {
          "output_type": "stream",
          "text": [
            "Riya Mohanis a data scientist\n"
          ],
          "name": "stdout"
        }
      ]
    },
    {
      "cell_type": "code",
      "metadata": {
        "colab": {
          "base_uri": "https://localhost:8080/"
        },
        "id": "hM3G773GGOcU",
        "outputId": "bb5ef289-b65b-40de-99a9-a3121c5d8134"
      },
      "source": [
        "print(f'{first} {last}')  #formated string- no need to concatenate"
      ],
      "execution_count": null,
      "outputs": [
        {
          "output_type": "stream",
          "text": [
            "Riya Mohan\n"
          ],
          "name": "stdout"
        }
      ]
    },
    {
      "cell_type": "code",
      "metadata": {
        "colab": {
          "base_uri": "https://localhost:8080/"
        },
        "id": "yd7GzVbwGuBo",
        "outputId": "a8a6632a-cee5-4ec1-f84e-90a1f64d803d"
      },
      "source": [
        "print(type(10))\r\n",
        "print(type(10.5))\r\n",
        "print(type('string'))\r\n",
        "print(type(True)"
      ],
      "execution_count": null,
      "outputs": [
        {
          "output_type": "stream",
          "text": [
            "<class 'int'>\n",
            "<class 'float'>\n",
            "<class 'str'>\n",
            "<class 'bool'>\n"
          ],
          "name": "stdout"
        }
      ]
    },
    {
      "cell_type": "code",
      "metadata": {
        "colab": {
          "base_uri": "https://localhost:8080/"
        },
        "id": "vXaP4RPIHGWh",
        "outputId": "fc44acdd-4372-4877-b69f-5639364b0207"
      },
      "source": [
        "name = input('Name ?\\n')"
      ],
      "execution_count": null,
      "outputs": [
        {
          "output_type": "stream",
          "text": [
            "Name ?\n",
            "Nila\n"
          ],
          "name": "stdout"
        }
      ]
    },
    {
      "cell_type": "code",
      "metadata": {
        "colab": {
          "base_uri": "https://localhost:8080/",
          "height": 35
        },
        "id": "2gR0AptuIGB2",
        "outputId": "c0b2bc7a-e787-42b6-aede-5658573effb8"
      },
      "source": [
        "name"
      ],
      "execution_count": null,
      "outputs": [
        {
          "output_type": "execute_result",
          "data": {
            "application/vnd.google.colaboratory.intrinsic+json": {
              "type": "string"
            },
            "text/plain": [
              "'Nila'"
            ]
          },
          "metadata": {
            "tags": []
          },
          "execution_count": 30
        }
      ]
    },
    {
      "cell_type": "code",
      "metadata": {
        "colab": {
          "base_uri": "https://localhost:8080/"
        },
        "id": "8nlsfcWaJaBL",
        "outputId": "b9167e75-86df-414e-eb77-88f38fcad49b"
      },
      "source": [
        "number = int(input('Number ?\\n'))"
      ],
      "execution_count": null,
      "outputs": [
        {
          "output_type": "stream",
          "text": [
            "Number ?\n",
            "5\n"
          ],
          "name": "stdout"
        }
      ]
    },
    {
      "cell_type": "markdown",
      "metadata": {
        "id": "z4tRAa4BIblH"
      },
      "source": [
        "***First assignment*** first ask the name of the person\r\n",
        "secondly,ask his weight in kgs\r\n",
        "you need to reply the person with his/her weight in poungs"
      ]
    },
    {
      "cell_type": "code",
      "metadata": {
        "colab": {
          "base_uri": "https://localhost:8080/",
          "height": 129
        },
        "id": "z_eylzKMGq-w",
        "outputId": "d17c25f9-09e1-4138-c518-99d977d98dbb"
      },
      "source": [
        "#assignment 1\r\n",
        "name=input(\"Enter the name:\")\r\n",
        "weight = int(input(\"Enter the weight in kgs:\"))\r\n",
        "message = (\"name\" + \"weight\" + '  ' + 'is' (weight) 'pounds' )\r\n",
        "print(message)\r\n",
        "\r\n"
      ],
      "execution_count": null,
      "outputs": [
        {
          "output_type": "error",
          "ename": "SyntaxError",
          "evalue": "ignored",
          "traceback": [
            "\u001b[0;36m  File \u001b[0;32m\"<ipython-input-2-634b3d89d733>\"\u001b[0;36m, line \u001b[0;32m4\u001b[0m\n\u001b[0;31m    message = (\"name\" + \"weight\" + '  ' + 'is' (weight) 'pounds' )\u001b[0m\n\u001b[0m                                                               ^\u001b[0m\n\u001b[0;31mSyntaxError\u001b[0m\u001b[0;31m:\u001b[0m invalid syntax\n"
          ]
        }
      ]
    },
    {
      "cell_type": "markdown",
      "metadata": {
        "id": "WQPmd5ZxJHgZ"
      },
      "source": [
        "***FUNCTIONS***"
      ]
    },
    {
      "cell_type": "code",
      "metadata": {
        "colab": {
          "base_uri": "https://localhost:8080/",
          "height": 35
        },
        "id": "hejMhA2KI5WC",
        "outputId": "1c2fd424-a08a-4940-9571-32d1e94a1963"
      },
      "source": [
        "course"
      ],
      "execution_count": null,
      "outputs": [
        {
          "output_type": "execute_result",
          "data": {
            "application/vnd.google.colaboratory.intrinsic+json": {
              "type": "string"
            },
            "text/plain": [
              "'Python for Beginners'"
            ]
          },
          "metadata": {
            "tags": []
          },
          "execution_count": 31
        }
      ]
    },
    {
      "cell_type": "code",
      "metadata": {
        "colab": {
          "base_uri": "https://localhost:8080/",
          "height": 35
        },
        "id": "-8wrWq23I7W2",
        "outputId": "8ffdf704-3814-46bd-c401-98560dbe5991"
      },
      "source": [
        "course.upper()"
      ],
      "execution_count": null,
      "outputs": [
        {
          "output_type": "execute_result",
          "data": {
            "application/vnd.google.colaboratory.intrinsic+json": {
              "type": "string"
            },
            "text/plain": [
              "'PYTHON FOR BEGINNERS'"
            ]
          },
          "metadata": {
            "tags": []
          },
          "execution_count": 32
        }
      ]
    },
    {
      "cell_type": "code",
      "metadata": {
        "colab": {
          "base_uri": "https://localhost:8080/",
          "height": 35
        },
        "id": "xCA6mJYrI9vQ",
        "outputId": "e4b6be5e-7c79-46ab-dbc8-b930eb71068b"
      },
      "source": [
        "course.lower()"
      ],
      "execution_count": null,
      "outputs": [
        {
          "output_type": "execute_result",
          "data": {
            "application/vnd.google.colaboratory.intrinsic+json": {
              "type": "string"
            },
            "text/plain": [
              "'python for beginners'"
            ]
          },
          "metadata": {
            "tags": []
          },
          "execution_count": 33
        }
      ]
    },
    {
      "cell_type": "code",
      "metadata": {
        "colab": {
          "base_uri": "https://localhost:8080/",
          "height": 35
        },
        "id": "slvCY9bPI_wz",
        "outputId": "6e93e3d2-969e-4aca-96d1-f087bf37eb19"
      },
      "source": [
        "course.title()"
      ],
      "execution_count": null,
      "outputs": [
        {
          "output_type": "execute_result",
          "data": {
            "application/vnd.google.colaboratory.intrinsic+json": {
              "type": "string"
            },
            "text/plain": [
              "'Python For Beginners'"
            ]
          },
          "metadata": {
            "tags": []
          },
          "execution_count": 34
        }
      ]
    },
    {
      "cell_type": "markdown",
      "metadata": {
        "id": "GT4qWip2JrO1"
      },
      "source": [
        "**** ***IF CONDITION***"
      ]
    },
    {
      "cell_type": "code",
      "metadata": {
        "colab": {
          "base_uri": "https://localhost:8080/"
        },
        "id": "f0wa3uW5JCLS",
        "outputId": "aa0182fc-c80a-4ef3-a22b-050035142cde"
      },
      "source": [
        "temp = int(input('Please enter the temperature:'))"
      ],
      "execution_count": null,
      "outputs": [
        {
          "output_type": "stream",
          "text": [
            "Please enter the temperature:2\n",
            "Please enter the temperature:3\n"
          ],
          "name": "stdout"
        }
      ]
    },
    {
      "cell_type": "code",
      "metadata": {
        "id": "r4iEiMbvKhyV"
      },
      "source": [
        "temp"
      ],
      "execution_count": null,
      "outputs": []
    },
    {
      "cell_type": "code",
      "metadata": {
        "colab": {
          "base_uri": "https://localhost:8080/"
        },
        "id": "yIBaEB7oKwWu",
        "outputId": "006dd1cc-f45e-420e-e1d0-2248d6513dad"
      },
      "source": [
        "type(temp)"
      ],
      "execution_count": null,
      "outputs": [
        {
          "output_type": "execute_result",
          "data": {
            "text/plain": [
              "int"
            ]
          },
          "metadata": {
            "tags": []
          },
          "execution_count": 38
        }
      ]
    },
    {
      "cell_type": "code",
      "metadata": {
        "colab": {
          "base_uri": "https://localhost:8080/"
        },
        "id": "p6yBPbHLKyU9",
        "outputId": "d3546cf6-c6d5-417b-f123-2f0c405bc0da"
      },
      "source": [
        "temp = int(input('Please enter the temperature:'))\r\n",
        "if temp > 30:\r\n",
        "  print(\"It is a Hot day\")\r\n",
        "elif temp < 10:\r\n",
        "  print(\"It is a cold day\")\r\n",
        "else:\r\n",
        "  print(\"It is a pleasant day\")  "
      ],
      "execution_count": null,
      "outputs": [
        {
          "output_type": "stream",
          "text": [
            "Please enter the temperature:25\n",
            "It is a pleasant day\n"
          ],
          "name": "stdout"
        }
      ]
    },
    {
      "cell_type": "markdown",
      "metadata": {
        "id": "H-xIBW7XMBvl"
      },
      "source": [
        "***While loop***"
      ]
    },
    {
      "cell_type": "code",
      "metadata": {
        "id": "DYnGs53eLp20",
        "colab": {
          "base_uri": "https://localhost:8080/"
        },
        "outputId": "255dcefc-10b7-4d93-e9bb-dd6f3f25762a"
      },
      "source": [
        "i=1\r\n",
        "while i<=5:\r\n",
        "  print('*' * i) #to get twice (*i)\r\n",
        "  i+=1\r\n",
        "  #print('Done')#displays done in each line\r\n",
        "print('Done')  \r\n"
      ],
      "execution_count": null,
      "outputs": [
        {
          "output_type": "stream",
          "text": [
            "*\n",
            "**\n",
            "***\n",
            "****\n",
            "*****\n",
            "Done\n"
          ],
          "name": "stdout"
        }
      ]
    },
    {
      "cell_type": "markdown",
      "metadata": {
        "id": "ZInwgAznNHC7"
      },
      "source": [
        "***For loop***"
      ]
    },
    {
      "cell_type": "code",
      "metadata": {
        "colab": {
          "base_uri": "https://localhost:8080/"
        },
        "id": "OcGk1C35MshY",
        "outputId": "11f81786-e6ac-440d-abe5-2ec4af153546"
      },
      "source": [
        "for i in range(10,20):#prints n to n-1\r\n",
        "  print(i)"
      ],
      "execution_count": null,
      "outputs": [
        {
          "output_type": "stream",
          "text": [
            "10\n",
            "11\n",
            "12\n",
            "13\n",
            "14\n",
            "15\n",
            "16\n",
            "17\n",
            "18\n",
            "19\n"
          ],
          "name": "stdout"
        }
      ]
    },
    {
      "cell_type": "code",
      "metadata": {
        "colab": {
          "base_uri": "https://localhost:8080/"
        },
        "id": "Q_tGFaNfNTcw",
        "outputId": "2ffa9146-4510-492d-8982-175e843a4089"
      },
      "source": [
        "for i in range(10,20,3):#step size (3) every 3 intervals it shows op\r\n",
        "  print(i)"
      ],
      "execution_count": null,
      "outputs": [
        {
          "output_type": "stream",
          "text": [
            "10\n",
            "13\n",
            "16\n",
            "19\n"
          ],
          "name": "stdout"
        }
      ]
    },
    {
      "cell_type": "code",
      "metadata": {
        "colab": {
          "base_uri": "https://localhost:8080/"
        },
        "id": "380WdGQwNs5E",
        "outputId": "003a843a-89cc-4475-c6a1-ac53b7cd11a8"
      },
      "source": [
        "for i in range(20,10,-3):\r\n",
        "  print(i)"
      ],
      "execution_count": null,
      "outputs": [
        {
          "output_type": "stream",
          "text": [
            "20\n",
            "17\n",
            "14\n",
            "11\n"
          ],
          "name": "stdout"
        }
      ]
    },
    {
      "cell_type": "markdown",
      "metadata": {
        "id": "abDf2nOyN6d0"
      },
      "source": [
        "***List(mutable)***"
      ]
    },
    {
      "cell_type": "code",
      "metadata": {
        "colab": {
          "base_uri": "https://localhost:8080/"
        },
        "id": "jEfwQLBwN2bT",
        "outputId": "e5c79425-e4fa-49fd-ad85-63e5493d34af"
      },
      "source": [
        "prices = [20, 30, 25, 40, 35]\r\n",
        "total = 0\r\n",
        "for item in prices:\r\n",
        "  total += item\r\n",
        "  print(total)# iterated op\r\n",
        "print(total) #final ans of tot    \r\n",
        "\r\n"
      ],
      "execution_count": null,
      "outputs": [
        {
          "output_type": "stream",
          "text": [
            "20\n",
            "50\n",
            "75\n",
            "115\n",
            "150\n",
            "150\n"
          ],
          "name": "stdout"
        }
      ]
    },
    {
      "cell_type": "code",
      "metadata": {
        "colab": {
          "base_uri": "https://localhost:8080/"
        },
        "id": "nMG_fjLxOzHT",
        "outputId": "6252841b-268b-45d1-9481-373654d09cf9"
      },
      "source": [
        "for x in range(4): # takes each value for x from 0to3 and when it completes x it starts for y\r\n",
        "  for y in range(4):\r\n",
        "    print(f'{x},{y}')"
      ],
      "execution_count": null,
      "outputs": [
        {
          "output_type": "stream",
          "text": [
            "0,0\n",
            "0,1\n",
            "0,2\n",
            "0,3\n",
            "1,0\n",
            "1,1\n",
            "1,2\n",
            "1,3\n",
            "2,0\n",
            "2,1\n",
            "2,2\n",
            "2,3\n",
            "3,0\n",
            "3,1\n",
            "3,2\n",
            "3,3\n"
          ],
          "name": "stdout"
        }
      ]
    },
    {
      "cell_type": "code",
      "metadata": {
        "colab": {
          "base_uri": "https://localhost:8080/"
        },
        "id": "lnrN12EdP8Pq",
        "outputId": "6a58f645-c7d4-4c85-db29-5e915f3432bb"
      },
      "source": [
        "import math\r\n",
        "math.floor(2.5)"
      ],
      "execution_count": null,
      "outputs": [
        {
          "output_type": "execute_result",
          "data": {
            "text/plain": [
              "2"
            ]
          },
          "metadata": {
            "tags": []
          },
          "execution_count": 16
        }
      ]
    },
    {
      "cell_type": "code",
      "metadata": {
        "colab": {
          "base_uri": "https://localhost:8080/"
        },
        "id": "cDaqpYLrREZ3",
        "outputId": "aa82dc97-591a-401d-9b1d-cb9b87260fde"
      },
      "source": [
        "math.ceil(2.5)"
      ],
      "execution_count": null,
      "outputs": [
        {
          "output_type": "execute_result",
          "data": {
            "text/plain": [
              "3"
            ]
          },
          "metadata": {
            "tags": []
          },
          "execution_count": 17
        }
      ]
    },
    {
      "cell_type": "code",
      "metadata": {
        "colab": {
          "base_uri": "https://localhost:8080/"
        },
        "id": "FY2zMQxQRKYD",
        "outputId": "3ec0fa78-bd3e-4371-b493-51ed1ffd582b"
      },
      "source": [
        "def greet_user():\r\n",
        "  print('Hi There')\r\n",
        "  print('Good Morning')\r\n",
        "print('start')\r\n",
        "greet_user()\r\n",
        "print('stop')"
      ],
      "execution_count": null,
      "outputs": [
        {
          "output_type": "stream",
          "text": [
            "start\n",
            "Hi There\n",
            "Good Morning\n",
            "stop\n"
          ],
          "name": "stdout"
        }
      ]
    },
    {
      "cell_type": "code",
      "metadata": {
        "colab": {
          "base_uri": "https://localhost:8080/"
        },
        "id": "teYfy7Q-TA4B",
        "outputId": "b3d53e80-ac75-4560-e291-9d7e130e00bc"
      },
      "source": [
        "def greet_user(name):\r\n",
        "  print(f'Hi {name}')\r\n",
        "  print('Good Morning')\r\n",
        "  print(f'Goodbye{name}')\r\n",
        "\r\n",
        "print('start')\r\n",
        "greet_user(\"Rahul\")\r\n",
        "print('stop')  "
      ],
      "execution_count": null,
      "outputs": [
        {
          "output_type": "stream",
          "text": [
            "start\n",
            "Hi Rahul\n",
            "Good Morning\n",
            "GoodbyeRahul\n",
            "stop\n"
          ],
          "name": "stdout"
        }
      ]
    },
    {
      "cell_type": "code",
      "metadata": {
        "id": "x_pAgMTPTmZp"
      },
      "source": [
        "list1 = [\"Gowtham\", \"Nikitha\", \"sanjana\", \"vasanth\"]"
      ],
      "execution_count": null,
      "outputs": []
    },
    {
      "cell_type": "code",
      "metadata": {
        "colab": {
          "base_uri": "https://localhost:8080/"
        },
        "id": "JWqLUG8LUo6z",
        "outputId": "7e7ba7ef-c0cf-44d6-9ddc-9485ef0a5a30"
      },
      "source": [
        "list1"
      ],
      "execution_count": null,
      "outputs": [
        {
          "output_type": "execute_result",
          "data": {
            "text/plain": [
              "['Gowtham', 'Nikitha', 'sanjana', 'vasanth']"
            ]
          },
          "metadata": {
            "tags": []
          },
          "execution_count": 24
        }
      ]
    },
    {
      "cell_type": "code",
      "metadata": {
        "colab": {
          "base_uri": "https://localhost:8080/"
        },
        "id": "eAafHIw2UrJA",
        "outputId": "95e6ab46-b52a-44fd-a29e-18a1fc47864d"
      },
      "source": [
        "type(list1)"
      ],
      "execution_count": null,
      "outputs": [
        {
          "output_type": "execute_result",
          "data": {
            "text/plain": [
              "list"
            ]
          },
          "metadata": {
            "tags": []
          },
          "execution_count": 25
        }
      ]
    },
    {
      "cell_type": "code",
      "metadata": {
        "colab": {
          "base_uri": "https://localhost:8080/"
        },
        "id": "3vC4KqIsUtcV",
        "outputId": "b975a844-3a90-415d-8cb1-4efdcffce796"
      },
      "source": [
        "2"
      ],
      "execution_count": null,
      "outputs": [
        {
          "output_type": "execute_result",
          "data": {
            "text/plain": [
              "2"
            ]
          },
          "metadata": {
            "tags": []
          },
          "execution_count": 26
        }
      ]
    },
    {
      "cell_type": "code",
      "metadata": {
        "colab": {
          "base_uri": "https://localhost:8080/"
        },
        "id": "vBFv6nCcU-Y0",
        "outputId": "e7db9ca0-b9f8-4a06-c7fc-5c558f8e47f9"
      },
      "source": [
        "type(2)"
      ],
      "execution_count": null,
      "outputs": [
        {
          "output_type": "execute_result",
          "data": {
            "text/plain": [
              "int"
            ]
          },
          "metadata": {
            "tags": []
          },
          "execution_count": 27
        }
      ]
    },
    {
      "cell_type": "code",
      "metadata": {
        "id": "HLN0a86ZVAWp"
      },
      "source": [
        "list2 = [\"3\", \"7\",\"the\"]"
      ],
      "execution_count": null,
      "outputs": []
    },
    {
      "cell_type": "code",
      "metadata": {
        "colab": {
          "base_uri": "https://localhost:8080/"
        },
        "id": "nRTPICI1VLTq",
        "outputId": "6ddfd5ce-638d-4f03-e466-670709110b71"
      },
      "source": [
        "list2"
      ],
      "execution_count": null,
      "outputs": [
        {
          "output_type": "execute_result",
          "data": {
            "text/plain": [
              "['3', '7', 'the']"
            ]
          },
          "metadata": {
            "tags": []
          },
          "execution_count": 29
        }
      ]
    },
    {
      "cell_type": "code",
      "metadata": {
        "id": "DjzCyLx4VMcK"
      },
      "source": [
        "numbers = [3,4,2,5,6]\r\n",
        "numbers.sort()  #sorting works with same datatype only"
      ],
      "execution_count": null,
      "outputs": []
    },
    {
      "cell_type": "code",
      "metadata": {
        "colab": {
          "base_uri": "https://localhost:8080/"
        },
        "id": "nZrMj7h-VoGZ",
        "outputId": "0969c235-913e-4c39-b114-3c5a294294e8"
      },
      "source": [
        "numbers"
      ],
      "execution_count": null,
      "outputs": [
        {
          "output_type": "execute_result",
          "data": {
            "text/plain": [
              "[2, 3, 4, 5, 6]"
            ]
          },
          "metadata": {
            "tags": []
          },
          "execution_count": 33
        }
      ]
    },
    {
      "cell_type": "code",
      "metadata": {
        "id": "lKFCNYBiV3K9"
      },
      "source": [
        "numbers.reverse()"
      ],
      "execution_count": null,
      "outputs": []
    },
    {
      "cell_type": "code",
      "metadata": {
        "colab": {
          "base_uri": "https://localhost:8080/"
        },
        "id": "Bz8RgWBbV5uY",
        "outputId": "fe691f48-0b7b-40a4-9e73-c3cbd7a9161f"
      },
      "source": [
        "numbers"
      ],
      "execution_count": null,
      "outputs": [
        {
          "output_type": "execute_result",
          "data": {
            "text/plain": [
              "[6, 5, 4, 3, 2]"
            ]
          },
          "metadata": {
            "tags": []
          },
          "execution_count": 35
        }
      ]
    },
    {
      "cell_type": "markdown",
      "metadata": {
        "id": "LwzSkNNLWBlf"
      },
      "source": [
        "concatenate list"
      ]
    },
    {
      "cell_type": "code",
      "metadata": {
        "id": "8oa69kl1V6yP"
      },
      "source": [
        "con_list = list1 + numbers"
      ],
      "execution_count": null,
      "outputs": []
    },
    {
      "cell_type": "code",
      "metadata": {
        "colab": {
          "base_uri": "https://localhost:8080/"
        },
        "id": "XpGXBIr_WK_9",
        "outputId": "16b96172-bc21-4cc3-ad77-07086b88d13e"
      },
      "source": [
        "con_list"
      ],
      "execution_count": null,
      "outputs": [
        {
          "output_type": "execute_result",
          "data": {
            "text/plain": [
              "[6, 5, 4, 3, 2, 6, 5, 4, 3, 2]"
            ]
          },
          "metadata": {
            "tags": []
          },
          "execution_count": 40
        }
      ]
    },
    {
      "cell_type": "code",
      "metadata": {
        "id": "cjUmE4LsWMzO"
      },
      "source": [
        "multi_d = [[\"manish\",\"vishal\"],[20,30]]"
      ],
      "execution_count": null,
      "outputs": []
    },
    {
      "cell_type": "code",
      "metadata": {
        "colab": {
          "base_uri": "https://localhost:8080/"
        },
        "id": "3GItJM0jW5wd",
        "outputId": "b6fc98ba-1c98-41d3-dd14-7e35a2abb720"
      },
      "source": [
        "type(multi_d)"
      ],
      "execution_count": null,
      "outputs": [
        {
          "output_type": "execute_result",
          "data": {
            "text/plain": [
              "list"
            ]
          },
          "metadata": {
            "tags": []
          },
          "execution_count": 42
        }
      ]
    },
    {
      "cell_type": "code",
      "metadata": {
        "colab": {
          "base_uri": "https://localhost:8080/"
        },
        "id": "PQU8aHyQW9K_",
        "outputId": "cdd3d4f5-d409-4d44-d500-18232b940b55"
      },
      "source": [
        "multi_d[1][0]"
      ],
      "execution_count": null,
      "outputs": [
        {
          "output_type": "execute_result",
          "data": {
            "text/plain": [
              "20"
            ]
          },
          "metadata": {
            "tags": []
          },
          "execution_count": 43
        }
      ]
    },
    {
      "cell_type": "code",
      "metadata": {
        "colab": {
          "base_uri": "https://localhost:8080/",
          "height": 35
        },
        "id": "NuA3RRr6XBt4",
        "outputId": "9972c086-abf4-4f0f-f41f-fcdff262a68f"
      },
      "source": [
        "multi_d[0][1]"
      ],
      "execution_count": null,
      "outputs": [
        {
          "output_type": "execute_result",
          "data": {
            "application/vnd.google.colaboratory.intrinsic+json": {
              "type": "string"
            },
            "text/plain": [
              "'vishal'"
            ]
          },
          "metadata": {
            "tags": []
          },
          "execution_count": 44
        }
      ]
    },
    {
      "cell_type": "markdown",
      "metadata": {
        "id": "wu_p9IHoXMdz"
      },
      "source": [
        "***Tuple(immutable)***"
      ]
    },
    {
      "cell_type": "code",
      "metadata": {
        "colab": {
          "base_uri": "https://localhost:8080/",
          "height": 163
        },
        "id": "OxyzcDs9XJIP",
        "outputId": "e6f3112c-929c-476f-8b16-60d63f353aeb"
      },
      "source": [
        "tup[10] = 0"
      ],
      "execution_count": null,
      "outputs": [
        {
          "output_type": "error",
          "ename": "NameError",
          "evalue": "ignored",
          "traceback": [
            "\u001b[0;31m---------------------------------------------------------------------------\u001b[0m",
            "\u001b[0;31mNameError\u001b[0m                                 Traceback (most recent call last)",
            "\u001b[0;32m<ipython-input-45-161aa51335e7>\u001b[0m in \u001b[0;36m<module>\u001b[0;34m()\u001b[0m\n\u001b[0;32m----> 1\u001b[0;31m \u001b[0mtup\u001b[0m\u001b[0;34m[\u001b[0m\u001b[0;36m10\u001b[0m\u001b[0;34m]\u001b[0m \u001b[0;34m=\u001b[0m \u001b[0;36m0\u001b[0m\u001b[0;34m\u001b[0m\u001b[0;34m\u001b[0m\u001b[0m\n\u001b[0m",
            "\u001b[0;31mNameError\u001b[0m: name 'tup' is not defined"
          ]
        }
      ]
    },
    {
      "cell_type": "markdown",
      "metadata": {
        "id": "2aWLdqj77luD"
      },
      "source": [
        "***Dictionary***"
      ]
    },
    {
      "cell_type": "code",
      "metadata": {
        "id": "zUmgOqT0Xlk9"
      },
      "source": [
        "address = {'Street': '20/40 park street','City': 'chennai','State': 'Tamilnadu','Country':'INDIA'} #dict=key:value"
      ],
      "execution_count": 1,
      "outputs": []
    },
    {
      "cell_type": "code",
      "metadata": {
        "colab": {
          "base_uri": "https://localhost:8080/"
        },
        "id": "KBvIgpTO8hT3",
        "outputId": "bc5d01e0-4b30-43b2-a4b8-75d16de0eed4"
      },
      "source": [
        "address"
      ],
      "execution_count": 2,
      "outputs": [
        {
          "output_type": "execute_result",
          "data": {
            "text/plain": [
              "{'City': 'chennai',\n",
              " 'Country': 'INDIA',\n",
              " 'State': 'Tamilnadu',\n",
              " 'Street': '20/40 park street'}"
            ]
          },
          "metadata": {
            "tags": []
          },
          "execution_count": 2
        }
      ]
    },
    {
      "cell_type": "code",
      "metadata": {
        "colab": {
          "base_uri": "https://localhost:8080/"
        },
        "id": "1Okka5j68kpR",
        "outputId": "26b5adf9-2ddd-455a-812a-24c637c0f7da"
      },
      "source": [
        "type(address)"
      ],
      "execution_count": 3,
      "outputs": [
        {
          "output_type": "execute_result",
          "data": {
            "text/plain": [
              "dict"
            ]
          },
          "metadata": {
            "tags": []
          },
          "execution_count": 3
        }
      ]
    },
    {
      "cell_type": "code",
      "metadata": {
        "colab": {
          "base_uri": "https://localhost:8080/",
          "height": 35
        },
        "id": "1pttZoUz9A2A",
        "outputId": "be3b7072-1f7b-4659-8f07-daabbb644110"
      },
      "source": [
        "address['State']"
      ],
      "execution_count": 6,
      "outputs": [
        {
          "output_type": "execute_result",
          "data": {
            "application/vnd.google.colaboratory.intrinsic+json": {
              "type": "string"
            },
            "text/plain": [
              "'Tamilnadu'"
            ]
          },
          "metadata": {
            "tags": []
          },
          "execution_count": 6
        }
      ]
    },
    {
      "cell_type": "code",
      "metadata": {
        "colab": {
          "base_uri": "https://localhost:8080/",
          "height": 35
        },
        "id": "bgI1EziO9mZl",
        "outputId": "1f2ae4a4-ed86-47f9-cd88-dfe31d86fea3"
      },
      "source": [
        "address['Country']"
      ],
      "execution_count": 7,
      "outputs": [
        {
          "output_type": "execute_result",
          "data": {
            "application/vnd.google.colaboratory.intrinsic+json": {
              "type": "string"
            },
            "text/plain": [
              "'INDIA'"
            ]
          },
          "metadata": {
            "tags": []
          },
          "execution_count": 7
        }
      ]
    },
    {
      "cell_type": "code",
      "metadata": {
        "id": "dMhfdy7s9yMd"
      },
      "source": [
        "address['pincode'] = 600129  #to add something in dict(mutable)"
      ],
      "execution_count": 8,
      "outputs": []
    },
    {
      "cell_type": "code",
      "metadata": {
        "colab": {
          "base_uri": "https://localhost:8080/"
        },
        "id": "refiR08597Md",
        "outputId": "b58fb887-c6c8-495d-bd0e-73ae011e174d"
      },
      "source": [
        "address"
      ],
      "execution_count": 9,
      "outputs": [
        {
          "output_type": "execute_result",
          "data": {
            "text/plain": [
              "{'City': 'chennai',\n",
              " 'Country': 'INDIA',\n",
              " 'State': 'Tamilnadu',\n",
              " 'Street': '20/40 park street',\n",
              " 'pincode': 600129}"
            ]
          },
          "metadata": {
            "tags": []
          },
          "execution_count": 9
        }
      ]
    },
    {
      "cell_type": "code",
      "metadata": {
        "colab": {
          "base_uri": "https://localhost:8080/"
        },
        "id": "6TAGv38A991l",
        "outputId": "a30b9e11-5a5b-4237-9303-6a85b2abd051"
      },
      "source": [
        "address.keys()"
      ],
      "execution_count": 10,
      "outputs": [
        {
          "output_type": "execute_result",
          "data": {
            "text/plain": [
              "dict_keys(['Street', 'City', 'State', 'Country', 'pincode'])"
            ]
          },
          "metadata": {
            "tags": []
          },
          "execution_count": 10
        }
      ]
    },
    {
      "cell_type": "code",
      "metadata": {
        "id": "fxQYmfxi-UUF"
      },
      "source": [
        "import random   #to choose something randomly feg.for a position to b a leader we need a random person"
      ],
      "execution_count": 11,
      "outputs": []
    },
    {
      "cell_type": "code",
      "metadata": {
        "id": "skPI7HDf-X8w"
      },
      "source": [
        "members = ['Biden','Putin','Trudeau','Modiji','Angela']"
      ],
      "execution_count": 12,
      "outputs": []
    },
    {
      "cell_type": "code",
      "metadata": {
        "colab": {
          "base_uri": "https://localhost:8080/",
          "height": 35
        },
        "id": "vdAvBQnf-xzv",
        "outputId": "387dd473-95da-493e-ee9d-59ac8830337b"
      },
      "source": [
        "random.choice(members)"
      ],
      "execution_count": 14,
      "outputs": [
        {
          "output_type": "execute_result",
          "data": {
            "application/vnd.google.colaboratory.intrinsic+json": {
              "type": "string"
            },
            "text/plain": [
              "'Putin'"
            ]
          },
          "metadata": {
            "tags": []
          },
          "execution_count": 14
        }
      ]
    },
    {
      "cell_type": "code",
      "metadata": {
        "colab": {
          "base_uri": "https://localhost:8080/"
        },
        "id": "4vkRSbDj_B0R",
        "outputId": "e8cc23a2-a1a5-4b79-a2b8-abbb5a27c7bb"
      },
      "source": [
        "import random\r\n",
        "for i in range(10):\r\n",
        "  print(random.randint(20,40))"
      ],
      "execution_count": 16,
      "outputs": [
        {
          "output_type": "stream",
          "text": [
            "35\n",
            "24\n",
            "27\n",
            "20\n",
            "23\n",
            "31\n",
            "36\n",
            "22\n",
            "31\n",
            "39\n"
          ],
          "name": "stdout"
        }
      ]
    },
    {
      "cell_type": "code",
      "metadata": {
        "colab": {
          "base_uri": "https://localhost:8080/"
        },
        "id": "CYbTIzdV_pTD",
        "outputId": "e6fa834e-58d0-4a43-ecb3-7be4292d54fb"
      },
      "source": [
        "import time\r\n",
        "for items in range(0,10):\r\n",
        "  print(items)\r\n",
        "  time.sleep(1) #action performs after one second\r\n",
        "  "
      ],
      "execution_count": 17,
      "outputs": [
        {
          "output_type": "stream",
          "text": [
            "0\n",
            "1\n",
            "2\n",
            "3\n",
            "4\n",
            "5\n",
            "6\n",
            "7\n",
            "8\n",
            "9\n"
          ],
          "name": "stdout"
        }
      ]
    },
    {
      "cell_type": "markdown",
      "metadata": {
        "id": "Yhur2i1rAdBx"
      },
      "source": [
        "# ***PANDAS(a library)***"
      ]
    },
    {
      "cell_type": "code",
      "metadata": {
        "id": "A16Jc48RADJt"
      },
      "source": [
        "cars = [\"Toyota\",\"Honda\",\"Tesla\",\"Audi\",\"BMW\"]"
      ],
      "execution_count": 18,
      "outputs": []
    },
    {
      "cell_type": "code",
      "metadata": {
        "colab": {
          "base_uri": "https://localhost:8080/"
        },
        "id": "s7EFqtgiA6I2",
        "outputId": "e5040758-af99-4bb7-a036-2f242989c347"
      },
      "source": [
        "type(cars)"
      ],
      "execution_count": 19,
      "outputs": [
        {
          "output_type": "execute_result",
          "data": {
            "text/plain": [
              "list"
            ]
          },
          "metadata": {
            "tags": []
          },
          "execution_count": 19
        }
      ]
    },
    {
      "cell_type": "markdown",
      "metadata": {
        "id": "PMRJTbQ9A_7F"
      },
      "source": [
        "To convert list to series"
      ]
    },
    {
      "cell_type": "code",
      "metadata": {
        "id": "4cL29n_cA9z5"
      },
      "source": [
        "import pandas as pd\r\n",
        "cars1=pd.Series(cars)"
      ],
      "execution_count": 25,
      "outputs": []
    },
    {
      "cell_type": "code",
      "metadata": {
        "colab": {
          "base_uri": "https://localhost:8080/"
        },
        "id": "ygM3HrkiB4xb",
        "outputId": "fd633806-86b8-4a11-8112-22c263cf44bd"
      },
      "source": [
        "cars1"
      ],
      "execution_count": 26,
      "outputs": [
        {
          "output_type": "execute_result",
          "data": {
            "text/plain": [
              "0    Toyota\n",
              "1     Honda\n",
              "2     Tesla\n",
              "3      Audi\n",
              "4       BMW\n",
              "dtype: object"
            ]
          },
          "metadata": {
            "tags": []
          },
          "execution_count": 26
        }
      ]
    },
    {
      "cell_type": "code",
      "metadata": {
        "colab": {
          "base_uri": "https://localhost:8080/"
        },
        "id": "2dWIr4HBB9ft",
        "outputId": "ab3f9710-cb35-41bf-dff7-26ce46f9073f"
      },
      "source": [
        "type(cars1)"
      ],
      "execution_count": 27,
      "outputs": [
        {
          "output_type": "execute_result",
          "data": {
            "text/plain": [
              "pandas.core.series.Series"
            ]
          },
          "metadata": {
            "tags": []
          },
          "execution_count": 27
        }
      ]
    },
    {
      "cell_type": "markdown",
      "metadata": {
        "id": "Y6U6RRWTCo1t"
      },
      "source": [
        "***Index and data***"
      ]
    },
    {
      "cell_type": "code",
      "metadata": {
        "colab": {
          "base_uri": "https://localhost:8080/"
        },
        "id": "o6iHqxxICOh3",
        "outputId": "859e6535-736c-49be-c054-4a498d719f90"
      },
      "source": [
        "food = ['Pasta','Sambhar','Samosa','Momos','Vada-pav','Briyani']\r\n",
        "weekdays = ['Monday','Tuesday','Wednesday','Thursday','Friday','Saturday']\r\n",
        "\r\n",
        "pd.Series(food, weekdays)  #(key ,value)=(index,data)"
      ],
      "execution_count": 29,
      "outputs": [
        {
          "output_type": "execute_result",
          "data": {
            "text/plain": [
              "Monday          Pasta\n",
              "Tuesday       Sambhar\n",
              "Wednesday      Samosa\n",
              "Thursday        Momos\n",
              "Friday       Vada-pav\n",
              "Saturday      Briyani\n",
              "dtype: object"
            ]
          },
          "metadata": {
            "tags": []
          },
          "execution_count": 29
        }
      ]
    },
    {
      "cell_type": "code",
      "metadata": {
        "colab": {
          "base_uri": "https://localhost:8080/"
        },
        "id": "rpRELfJJCSLM",
        "outputId": "35e0cf7c-4891-4c42-f27e-55e3806e10d9"
      },
      "source": [
        "pd.Series(index = food, data = weekdays)"
      ],
      "execution_count": 30,
      "outputs": [
        {
          "output_type": "execute_result",
          "data": {
            "text/plain": [
              "Pasta          Monday\n",
              "Sambhar       Tuesday\n",
              "Samosa      Wednesday\n",
              "Momos        Thursday\n",
              "Vada-pav       Friday\n",
              "Briyani      Saturday\n",
              "dtype: object"
            ]
          },
          "metadata": {
            "tags": []
          },
          "execution_count": 30
        }
      ]
    },
    {
      "cell_type": "markdown",
      "metadata": {
        "id": "_nDpAKi9El5O"
      },
      "source": [
        "***Forming Dataframes***"
      ]
    },
    {
      "cell_type": "code",
      "metadata": {
        "id": "DWdlQkWlEgWK"
      },
      "source": [
        "raw = {'city': ['Mumbai','Chennai',\"Delhi\",\"Bngalore\",\"Kolkatta\"],'ranks':['1st','2nd','3rd','4th','5th'],'Name':['Yash','vasanth','riya','diya','hema']}"
      ],
      "execution_count": 33,
      "outputs": []
    },
    {
      "cell_type": "code",
      "metadata": {
        "id": "RDunz-nBF_Aw"
      },
      "source": [
        "df = pd.DataFrame(raw, columns=['city','ranks','Name'])"
      ],
      "execution_count": 34,
      "outputs": []
    },
    {
      "cell_type": "code",
      "metadata": {
        "colab": {
          "base_uri": "https://localhost:8080/",
          "height": 204
        },
        "id": "MnI3fFVkGX_d",
        "outputId": "e2f6781d-e4ee-4db2-d978-d43704576152"
      },
      "source": [
        "df\r\n"
      ],
      "execution_count": 35,
      "outputs": [
        {
          "output_type": "execute_result",
          "data": {
            "text/html": [
              "<div>\n",
              "<style scoped>\n",
              "    .dataframe tbody tr th:only-of-type {\n",
              "        vertical-align: middle;\n",
              "    }\n",
              "\n",
              "    .dataframe tbody tr th {\n",
              "        vertical-align: top;\n",
              "    }\n",
              "\n",
              "    .dataframe thead th {\n",
              "        text-align: right;\n",
              "    }\n",
              "</style>\n",
              "<table border=\"1\" class=\"dataframe\">\n",
              "  <thead>\n",
              "    <tr style=\"text-align: right;\">\n",
              "      <th></th>\n",
              "      <th>city</th>\n",
              "      <th>ranks</th>\n",
              "      <th>Name</th>\n",
              "    </tr>\n",
              "  </thead>\n",
              "  <tbody>\n",
              "    <tr>\n",
              "      <th>0</th>\n",
              "      <td>Mumbai</td>\n",
              "      <td>1st</td>\n",
              "      <td>Yash</td>\n",
              "    </tr>\n",
              "    <tr>\n",
              "      <th>1</th>\n",
              "      <td>Chennai</td>\n",
              "      <td>2nd</td>\n",
              "      <td>vasanth</td>\n",
              "    </tr>\n",
              "    <tr>\n",
              "      <th>2</th>\n",
              "      <td>Delhi</td>\n",
              "      <td>3rd</td>\n",
              "      <td>riya</td>\n",
              "    </tr>\n",
              "    <tr>\n",
              "      <th>3</th>\n",
              "      <td>Bngalore</td>\n",
              "      <td>4th</td>\n",
              "      <td>diya</td>\n",
              "    </tr>\n",
              "    <tr>\n",
              "      <th>4</th>\n",
              "      <td>Kolkatta</td>\n",
              "      <td>5th</td>\n",
              "      <td>hema</td>\n",
              "    </tr>\n",
              "  </tbody>\n",
              "</table>\n",
              "</div>"
            ],
            "text/plain": [
              "       city ranks     Name\n",
              "0    Mumbai   1st     Yash\n",
              "1   Chennai   2nd  vasanth\n",
              "2     Delhi   3rd     riya\n",
              "3  Bngalore   4th     diya\n",
              "4  Kolkatta   5th     hema"
            ]
          },
          "metadata": {
            "tags": []
          },
          "execution_count": 35
        }
      ]
    },
    {
      "cell_type": "code",
      "metadata": {
        "colab": {
          "base_uri": "https://localhost:8080/"
        },
        "id": "T80iuacRGgHU",
        "outputId": "ffecb4b9-5655-49a8-81fd-9978c7c149a3"
      },
      "source": [
        "type(df)"
      ],
      "execution_count": 36,
      "outputs": [
        {
          "output_type": "execute_result",
          "data": {
            "text/plain": [
              "pandas.core.frame.DataFrame"
            ]
          },
          "metadata": {
            "tags": []
          },
          "execution_count": 36
        }
      ]
    },
    {
      "cell_type": "code",
      "metadata": {
        "id": "I_14-axlGifD"
      },
      "source": [
        "#csv files ie)comma separated files\r\n",
        "df.to_csv('trail1.csv') #click on folder option we can see files we can download it"
      ],
      "execution_count": 37,
      "outputs": []
    },
    {
      "cell_type": "code",
      "metadata": {
        "id": "pMfRb7oQG6PJ"
      },
      "source": [
        ""
      ],
      "execution_count": null,
      "outputs": []
    }
  ]
}